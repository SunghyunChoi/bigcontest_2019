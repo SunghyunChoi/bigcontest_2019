{
 "cells": [
  {
   "cell_type": "code",
   "execution_count": 1,
   "metadata": {},
   "outputs": [],
   "source": [
    "import numpy as np\n",
    "import pandas as pd\n",
    "import os"
   ]
  },
  {
   "cell_type": "code",
   "execution_count": 2,
   "metadata": {},
   "outputs": [],
   "source": [
    "data_dir = '../../data/주어진데이터/카드메출데이터'\n",
    "descrip = os.path.join(data_dir, '2019빅콘테스트_신한카드소비데이터_레이아웃_최종_190711.xlsx')\n",
    "data = os.path.join(data_dir, 'CARD_SPENDING\\CARD_SPENDING.txt')"
   ]
  },
  {
   "cell_type": "markdown",
   "metadata": {},
   "source": [
    "### Excel file 설명 (업종, 성별나이 참고)"
   ]
  },
  {
   "cell_type": "code",
   "execution_count": 3,
   "metadata": {},
   "outputs": [
    {
     "name": "stdout",
     "output_type": "stream",
     "text": [
      "   No.        컬럼ID    컬럼명          타입 NULL  KEY  DEFAULT          비고\n",
      "0    1      STD_DD   기준일자  VARCHAR(8)    N    Y      NaN         NaN\n",
      "1    2       GU_CD    구코드  VARCHAR(2)    N    Y      NaN         NaN\n",
      "2    3     DONG_CD  행정동코드  VARCHAR(3)    N    Y      NaN         NaN\n",
      "3    4  MCT_CAT_CD   업종코드  VARCHAR(2)    N    Y      NaN         NaN\n",
      "4    5      SEX_CD   성별코드  VARCHAR(1)    N    Y      NaN  M:남자, F:여자\n",
      "5    6      AGE_CD   나이코드  VARCHAR(2)    N    Y      NaN       5세 단위\n",
      "6    7     USE_CNT   이용건수     NUMBER     N  NaN      NaN        단위:건\n",
      "7    8     USE_AMT   이용금액     NUMBER     N  NaN      NaN       단위:천원\n"
     ]
    }
   ],
   "source": [
    "# data 설명\n",
    "print(pd.read_excel(descrip, header=3, nrows=8, sheet_name='카드소비'))"
   ]
  },
  {
   "cell_type": "code",
   "execution_count": 4,
   "metadata": {},
   "outputs": [],
   "source": [
    "df_gu_dong = pd.read_excel(descrip, header=1, nrows=37, usecols=[1,2,3,4], sheet_name='(참고) 행정동코드')\n",
    "new_col = {'구명':'구','행정동명':'동'}\n",
    "df_gu_dong = df_gu_dong.rename(columns=new_col)"
   ]
  },
  {
   "cell_type": "code",
   "execution_count": 5,
   "metadata": {},
   "outputs": [
    {
     "data": {
      "text/html": [
       "<div>\n",
       "<style scoped>\n",
       "    .dataframe tbody tr th:only-of-type {\n",
       "        vertical-align: middle;\n",
       "    }\n",
       "\n",
       "    .dataframe tbody tr th {\n",
       "        vertical-align: top;\n",
       "    }\n",
       "\n",
       "    .dataframe thead th {\n",
       "        text-align: right;\n",
       "    }\n",
       "</style>\n",
       "<table border=\"1\" class=\"dataframe\">\n",
       "  <thead>\n",
       "    <tr style=\"text-align: right;\">\n",
       "      <th></th>\n",
       "      <th>구코드</th>\n",
       "      <th>행정동코드</th>\n",
       "      <th>구</th>\n",
       "      <th>동</th>\n",
       "    </tr>\n",
       "  </thead>\n",
       "  <tbody>\n",
       "    <tr>\n",
       "      <th>0</th>\n",
       "      <td>110</td>\n",
       "      <td>515</td>\n",
       "      <td>종로구</td>\n",
       "      <td>청운효자동</td>\n",
       "    </tr>\n",
       "    <tr>\n",
       "      <th>1</th>\n",
       "      <td>110</td>\n",
       "      <td>530</td>\n",
       "      <td>종로구</td>\n",
       "      <td>사직동</td>\n",
       "    </tr>\n",
       "    <tr>\n",
       "      <th>2</th>\n",
       "      <td>110</td>\n",
       "      <td>540</td>\n",
       "      <td>종로구</td>\n",
       "      <td>삼청동</td>\n",
       "    </tr>\n",
       "    <tr>\n",
       "      <th>3</th>\n",
       "      <td>110</td>\n",
       "      <td>550</td>\n",
       "      <td>종로구</td>\n",
       "      <td>부암동</td>\n",
       "    </tr>\n",
       "    <tr>\n",
       "      <th>4</th>\n",
       "      <td>110</td>\n",
       "      <td>560</td>\n",
       "      <td>종로구</td>\n",
       "      <td>평창동</td>\n",
       "    </tr>\n",
       "  </tbody>\n",
       "</table>\n",
       "</div>"
      ],
      "text/plain": [
       "   구코드  행정동코드    구      동\n",
       "0  110    515  종로구  청운효자동\n",
       "1  110    530  종로구    사직동\n",
       "2  110    540  종로구    삼청동\n",
       "3  110    550  종로구    부암동\n",
       "4  110    560  종로구    평창동"
      ]
     },
     "execution_count": 5,
     "metadata": {},
     "output_type": "execute_result"
    }
   ],
   "source": [
    "df_gu_dong.head()"
   ]
  },
  {
   "cell_type": "code",
   "execution_count": 6,
   "metadata": {},
   "outputs": [],
   "source": [
    "# TODO\n",
    "# 업종코드 table"
   ]
  },
  {
   "cell_type": "markdown",
   "metadata": {},
   "source": [
    "### 데이터 분석"
   ]
  },
  {
   "cell_type": "code",
   "execution_count": 7,
   "metadata": {},
   "outputs": [],
   "source": [
    "df = pd.read_csv(data, sep='\\t')\n",
    "new_col = {'STD_DD':'날짜', 'GU_CD':'구코드','DONG_CD':'행정동코드','MCT_CAT_CD':'업종코드',\n",
    "           'SEX_CD':'성별코드','AGE_CD':'나이코드','USE_CNT':'이용건수','USE_AMT':'이용금액'}\n",
    "df = df.rename(columns=new_col)\n",
    "df['날짜'] = pd.to_datetime(df['날짜'], format='%Y%m%d')"
   ]
  },
  {
   "cell_type": "code",
   "execution_count": 8,
   "metadata": {},
   "outputs": [
    {
     "data": {
      "text/html": [
       "<div>\n",
       "<style scoped>\n",
       "    .dataframe tbody tr th:only-of-type {\n",
       "        vertical-align: middle;\n",
       "    }\n",
       "\n",
       "    .dataframe tbody tr th {\n",
       "        vertical-align: top;\n",
       "    }\n",
       "\n",
       "    .dataframe thead th {\n",
       "        text-align: right;\n",
       "    }\n",
       "</style>\n",
       "<table border=\"1\" class=\"dataframe\">\n",
       "  <thead>\n",
       "    <tr style=\"text-align: right;\">\n",
       "      <th></th>\n",
       "      <th>날짜</th>\n",
       "      <th>구코드</th>\n",
       "      <th>행정동코드</th>\n",
       "      <th>업종코드</th>\n",
       "      <th>성별코드</th>\n",
       "      <th>나이코드</th>\n",
       "      <th>이용건수</th>\n",
       "      <th>이용금액</th>\n",
       "    </tr>\n",
       "  </thead>\n",
       "  <tbody>\n",
       "    <tr>\n",
       "      <th>0</th>\n",
       "      <td>2018-04-01</td>\n",
       "      <td>110</td>\n",
       "      <td>515</td>\n",
       "      <td>21</td>\n",
       "      <td>F</td>\n",
       "      <td>55</td>\n",
       "      <td>4</td>\n",
       "      <td>22</td>\n",
       "    </tr>\n",
       "    <tr>\n",
       "      <th>1</th>\n",
       "      <td>2018-04-01</td>\n",
       "      <td>110</td>\n",
       "      <td>515</td>\n",
       "      <td>21</td>\n",
       "      <td>M</td>\n",
       "      <td>20</td>\n",
       "      <td>35</td>\n",
       "      <td>184</td>\n",
       "    </tr>\n",
       "    <tr>\n",
       "      <th>2</th>\n",
       "      <td>2018-04-01</td>\n",
       "      <td>110</td>\n",
       "      <td>515</td>\n",
       "      <td>21</td>\n",
       "      <td>M</td>\n",
       "      <td>25</td>\n",
       "      <td>70</td>\n",
       "      <td>425</td>\n",
       "    </tr>\n",
       "    <tr>\n",
       "      <th>3</th>\n",
       "      <td>2018-04-01</td>\n",
       "      <td>110</td>\n",
       "      <td>515</td>\n",
       "      <td>21</td>\n",
       "      <td>M</td>\n",
       "      <td>30</td>\n",
       "      <td>18</td>\n",
       "      <td>82</td>\n",
       "    </tr>\n",
       "    <tr>\n",
       "      <th>4</th>\n",
       "      <td>2018-04-01</td>\n",
       "      <td>110</td>\n",
       "      <td>515</td>\n",
       "      <td>21</td>\n",
       "      <td>M</td>\n",
       "      <td>35</td>\n",
       "      <td>4</td>\n",
       "      <td>44</td>\n",
       "    </tr>\n",
       "  </tbody>\n",
       "</table>\n",
       "</div>"
      ],
      "text/plain": [
       "          날짜  구코드  행정동코드  업종코드 성별코드  나이코드  이용건수  이용금액\n",
       "0 2018-04-01  110    515    21    F    55     4    22\n",
       "1 2018-04-01  110    515    21    M    20    35   184\n",
       "2 2018-04-01  110    515    21    M    25    70   425\n",
       "3 2018-04-01  110    515    21    M    30    18    82\n",
       "4 2018-04-01  110    515    21    M    35     4    44"
      ]
     },
     "execution_count": 8,
     "metadata": {},
     "output_type": "execute_result"
    }
   ],
   "source": [
    "df.head()"
   ]
  },
  {
   "cell_type": "code",
   "execution_count": 9,
   "metadata": {},
   "outputs": [],
   "source": [
    "df = pd.merge(df, df_gu_dong)\n",
    "del df['구코드']\n",
    "del df['행정동코드']"
   ]
  },
  {
   "cell_type": "code",
   "execution_count": 10,
   "metadata": {},
   "outputs": [
    {
     "data": {
      "text/html": [
       "<div>\n",
       "<style scoped>\n",
       "    .dataframe tbody tr th:only-of-type {\n",
       "        vertical-align: middle;\n",
       "    }\n",
       "\n",
       "    .dataframe tbody tr th {\n",
       "        vertical-align: top;\n",
       "    }\n",
       "\n",
       "    .dataframe thead th {\n",
       "        text-align: right;\n",
       "    }\n",
       "</style>\n",
       "<table border=\"1\" class=\"dataframe\">\n",
       "  <thead>\n",
       "    <tr style=\"text-align: right;\">\n",
       "      <th></th>\n",
       "      <th>날짜</th>\n",
       "      <th>업종코드</th>\n",
       "      <th>성별코드</th>\n",
       "      <th>나이코드</th>\n",
       "      <th>이용건수</th>\n",
       "      <th>이용금액</th>\n",
       "      <th>구</th>\n",
       "      <th>동</th>\n",
       "    </tr>\n",
       "  </thead>\n",
       "  <tbody>\n",
       "    <tr>\n",
       "      <th>0</th>\n",
       "      <td>2018-04-01</td>\n",
       "      <td>21</td>\n",
       "      <td>F</td>\n",
       "      <td>55</td>\n",
       "      <td>4</td>\n",
       "      <td>22</td>\n",
       "      <td>종로구</td>\n",
       "      <td>청운효자동</td>\n",
       "    </tr>\n",
       "    <tr>\n",
       "      <th>1</th>\n",
       "      <td>2018-04-01</td>\n",
       "      <td>21</td>\n",
       "      <td>M</td>\n",
       "      <td>20</td>\n",
       "      <td>35</td>\n",
       "      <td>184</td>\n",
       "      <td>종로구</td>\n",
       "      <td>청운효자동</td>\n",
       "    </tr>\n",
       "    <tr>\n",
       "      <th>2</th>\n",
       "      <td>2018-04-01</td>\n",
       "      <td>21</td>\n",
       "      <td>M</td>\n",
       "      <td>25</td>\n",
       "      <td>70</td>\n",
       "      <td>425</td>\n",
       "      <td>종로구</td>\n",
       "      <td>청운효자동</td>\n",
       "    </tr>\n",
       "    <tr>\n",
       "      <th>3</th>\n",
       "      <td>2018-04-01</td>\n",
       "      <td>21</td>\n",
       "      <td>M</td>\n",
       "      <td>30</td>\n",
       "      <td>18</td>\n",
       "      <td>82</td>\n",
       "      <td>종로구</td>\n",
       "      <td>청운효자동</td>\n",
       "    </tr>\n",
       "    <tr>\n",
       "      <th>4</th>\n",
       "      <td>2018-04-01</td>\n",
       "      <td>21</td>\n",
       "      <td>M</td>\n",
       "      <td>35</td>\n",
       "      <td>4</td>\n",
       "      <td>44</td>\n",
       "      <td>종로구</td>\n",
       "      <td>청운효자동</td>\n",
       "    </tr>\n",
       "  </tbody>\n",
       "</table>\n",
       "</div>"
      ],
      "text/plain": [
       "          날짜  업종코드 성별코드  나이코드  이용건수  이용금액    구      동\n",
       "0 2018-04-01    21    F    55     4    22  종로구  청운효자동\n",
       "1 2018-04-01    21    M    20    35   184  종로구  청운효자동\n",
       "2 2018-04-01    21    M    25    70   425  종로구  청운효자동\n",
       "3 2018-04-01    21    M    30    18    82  종로구  청운효자동\n",
       "4 2018-04-01    21    M    35     4    44  종로구  청운효자동"
      ]
     },
     "execution_count": 10,
     "metadata": {},
     "output_type": "execute_result"
    }
   ],
   "source": [
    "df.head()"
   ]
  },
  {
   "cell_type": "code",
   "execution_count": 11,
   "metadata": {},
   "outputs": [
    {
     "name": "stdout",
     "output_type": "stream",
     "text": [
      "<class 'pandas.core.frame.DataFrame'>\n",
      "Int64Index: 1998575 entries, 0 to 1998574\n",
      "Data columns (total 8 columns):\n",
      "날짜      datetime64[ns]\n",
      "업종코드    int64\n",
      "성별코드    object\n",
      "나이코드    int64\n",
      "이용건수    int64\n",
      "이용금액    int64\n",
      "구       object\n",
      "동       object\n",
      "dtypes: datetime64[ns](1), int64(4), object(3)\n",
      "memory usage: 137.2+ MB\n"
     ]
    }
   ],
   "source": [
    "df.info()"
   ]
  },
  {
   "cell_type": "code",
   "execution_count": 13,
   "metadata": {},
   "outputs": [],
   "source": [
    "df.to_csv('../../data/가공데이터/카드매출데이터.csv', index=None)"
   ]
  }
 ],
 "metadata": {
  "kernelspec": {
   "display_name": "Python 3",
   "language": "python",
   "name": "python3"
  },
  "language_info": {
   "codemirror_mode": {
    "name": "ipython",
    "version": 3
   },
   "file_extension": ".py",
   "mimetype": "text/x-python",
   "name": "python",
   "nbconvert_exporter": "python",
   "pygments_lexer": "ipython3",
   "version": "3.7.4"
  }
 },
 "nbformat": 4,
 "nbformat_minor": 4
}
